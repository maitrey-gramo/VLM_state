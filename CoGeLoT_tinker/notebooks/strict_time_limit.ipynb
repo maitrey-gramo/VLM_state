{
 "cells": [
  {
   "cell_type": "code",
   "execution_count": 2,
   "metadata": {},
   "outputs": [
    {
     "name": "stderr",
     "output_type": "stream",
     "text": [
      "/Users/amit/Develop/VIMA/.venv/lib/python3.11/site-packages/tqdm/auto.py:21: TqdmWarning: IProgress not found. Please update jupyter and ipywidgets. See https://ipywidgets.readthedocs.io/en/stable/user_install.html\n",
      "  from .autonotebook import tqdm as notebook_tqdm\n"
     ]
    }
   ],
   "source": [
    "from pathlib import Path\n",
    "\n",
    "import orjson\n",
    "import polars as pl\n",
    "from rich.console import Console\n",
    "\n",
    "from cogelot.structures.vima import Partition, Task\n",
    "\n",
    "console = Console()\n",
    "\n",
    "\n",
    "def process_old_style_csv(path: str) -> pl.DataFrame:\n",
    "    \"\"\"Process the old style CSV files and return a DataFrame with the relevant columns.\"\"\"\n",
    "    episodes = (\n",
    "        pl.read_csv(path)\n",
    "        .with_columns(\n",
    "            pl.col(\"max_swept_obj\").replace(\"null\", None),\n",
    "            pl.col(\"num_dragged_obj\").replace(\"null\", None),\n",
    "            pl.col(\"num_base_obj\").replace(\"null\", None),\n",
    "            pl.col(\"num_target_base_obj\").replace(\"null\", None),\n",
    "        )\n",
    "        .select(\n",
    "            pl.col(\n",
    "                [\n",
    "                    \"partition\",\n",
    "                    \"task\",\n",
    "                    \"is_successful_at_end\",\n",
    "                ]\n",
    "            ),\n",
    "            pl.col(\n",
    "                [\n",
    "                    \"steps_taken\",\n",
    "                    \"max_swept_obj\",\n",
    "                    \"num_dragged_obj\",\n",
    "                    \"num_base_obj\",\n",
    "                    \"num_target_base_obj\",\n",
    "                ]\n",
    "            ).cast(pl.Int32),\n",
    "        )\n",
    "        .with_columns(\n",
    "            pl.when(pl.col(\"task\").is_in([\"novel_adj\", \"novel_adj_and_noun\"]))\n",
    "            .then(1)\n",
    "            .otherwise(pl.col(\"num_dragged_obj\"))\n",
    "            .alias(\"num_dragged_obj\"),\n",
    "        )\n",
    "        .with_columns(\n",
    "            pl.when(pl.col(\"task\").is_in([\"sweep_without_touching\", \"sweep_without_exceeding\"]))\n",
    "            .then(pl.col(\"max_swept_obj\"))\n",
    "            .when(pl.col(\"task\") == \"pick_in_order_then_restore\")\n",
    "            .then(pl.col(\"num_target_base_obj\"))\n",
    "            .otherwise(pl.col(\"num_dragged_obj\"))\n",
    "            .alias(\"time_limit\"),\n",
    "        )\n",
    "        .with_columns(\n",
    "            pl.when(pl.col(\"is_successful_at_end\"))\n",
    "            .then(pl.col(\"time_limit\").sub(pl.col(\"steps_taken\")).ge(0))\n",
    "            .otherwise(pl.lit(False))  # noqa: FBT003\n",
    "            .alias(\"is_successful_without_mistakes\"),\n",
    "            pl.col(\"task\")\n",
    "            .replace(old=[x.name for x in Task], new=[x.value + 1 for x in Task])\n",
    "            .cast(pl.Int16),\n",
    "            pl.col(\"partition\")\n",
    "            .replace(old=[x.name for x in Partition], new=[x.value for x in Partition])\n",
    "            .cast(pl.Int16),\n",
    "        )\n",
    "        .drop(\"max_swept_obj\", \"num_target_base_obj\", \"num_dragged_obj\", \"num_base_obj\")\n",
    "    )\n",
    "\n",
    "    # Verify that there are no null values in the time_limit column\n",
    "    assert episodes.select(pl.col(\"time_limit\").is_not_null().all()).to_dict(as_series=False)[\n",
    "        \"time_limit\"\n",
    "    ][0]\n",
    "\n",
    "    return episodes\n",
    "\n",
    "\n",
    "def compute_per_task_performance(episodes_df: pl.DataFrame) -> pl.DataFrame:\n",
    "    \"\"\"Compute the performance of each task in the dataset.\"\"\"\n",
    "    return (\n",
    "        episodes_df.group_by([\"partition\", \"task\"])\n",
    "        .agg(\n",
    "            pl.col(\"is_successful_at_end\").sum().alias(\"num_successful\"),\n",
    "            pl.col(\"is_successful_without_mistakes\").sum().alias(\"num_successful_strict\"),\n",
    "        )\n",
    "        .join(\n",
    "            episodes_df.group_by([\"partition\", \"task\"]).agg(\n",
    "                pl.col(\"time_limit\").count().alias(\"total_episodes\")\n",
    "            ),\n",
    "            on=[\"partition\", \"task\"],\n",
    "        )\n",
    "        .with_columns(\n",
    "            pl.col(\"num_successful_strict\")\n",
    "            .truediv(pl.col(\"total_episodes\"))\n",
    "            .alias(\"percentage_successful_strict\"),\n",
    "            pl.col(\"num_successful\")\n",
    "            .truediv(pl.col(\"total_episodes\"))\n",
    "            .alias(\"percentage_successful\"),\n",
    "        )\n",
    "        .sort([\"partition\", \"task\"])\n",
    "    )\n",
    "\n",
    "\n",
    "def compute_per_partition_performance(episodes_per_task_df: pl.DataFrame) -> pl.DataFrame:\n",
    "    \"\"\"Compute the performance of each partition in the dataset.\"\"\"\n",
    "    return (\n",
    "        episodes_per_task_df.group_by(\"partition\")\n",
    "        .agg(\n",
    "            pl.col(\"percentage_successful_strict\")\n",
    "            .mean()\n",
    "            .mul(100)\n",
    "            .round(1)\n",
    "            .alias(\"percentage_successful_strict\"),\n",
    "            pl.col(\"percentage_successful\")\n",
    "            .mean()\n",
    "            .mul(100)\n",
    "            .round(1)\n",
    "            .alias(\"percentage_successful\"),\n",
    "        )\n",
    "        .sort(\"partition\")\n",
    "    )\n",
    "\n",
    "\n",
    "def process_new_style_json(path: str) -> pl.DataFrame:\n",
    "    \"\"\"Process the new style JSON files and return a DataFrame with the relevant columns.\"\"\"\n",
    "    raw_episodes = orjson.loads(Path(path).read_text())\n",
    "\n",
    "    episodes = pl.DataFrame(raw_episodes[\"data\"])\n",
    "    episodes.columns = raw_episodes[\"columns\"]\n",
    "\n",
    "    episodes = episodes.select(\n",
    "        pl.col(\"partition\", \"is_successful_at_end\"),\n",
    "        pl.col(\"minimum_steps\").alias(\"time_limit\"),\n",
    "        pl.col(\"total_steps\").alias(\"steps_taken\"),\n",
    "        pl.col(\"task\").add(1).alias(\"task\"),\n",
    "    ).with_columns(\n",
    "        pl.when(pl.col(\"is_successful_at_end\"))\n",
    "        .then(pl.col(\"time_limit\").sub(pl.col(\"steps_taken\")).ge(0))\n",
    "        .otherwise(pl.lit(False))  # noqa: FBT003\n",
    "        .alias(\"is_successful_without_mistakes\")\n",
    "    )\n",
    "    return episodes"
   ]
  },
  {
   "cell_type": "code",
   "execution_count": 10,
   "metadata": {},
   "outputs": [
    {
     "name": "stdout",
     "output_type": "stream",
     "text": [
      "\\bfseries L1 & 99.0 & 99.0 & 99.0 & 83.5 & 0.0 & 97.5 & 98.0 & {---} & 11.5 & {---} & 92.0 & 97.5 & {---} & {---} & 96.0 & 41.5 & 0.0 & 70.3 \\\\\n",
      "\\bfseries L2 & 97.5 & 98.0 & 99.5 & 78.0 & 0.0 & 98.0 & 99.0 & {---} & 13.5 & {---} & 91.0 & 91.5 & {---} & {---} & 94.5 & 46.0 & 0.0 & 69.7 \\\\\n",
      "\\bfseries L3 & 98.0 & 97.0 & 99.5 & 77.5 & 0.0 & 97.5 & 95.5 & {---} & 15.5 & {---} & 92.5 & {---} & {---} & {---} & 94.5 & 47.5 & 0.0 & 67.9 \\\\\n",
      "\\bfseries L4 & {---} & {---} & {---} & {---} & {---} & {---} & {---} & 92.0 & {---} & 0.0 & {---} & {---} & 0.0 & 95.0 & {---} & {---} & {---} & 46.8 \\\\\n"
     ]
    }
   ],
   "source": [
    "import statistics\n",
    "from decimal import Decimal\n",
    "\n",
    "x_obj_episodes = process_old_style_csv(\"storage/data/x-obj-para-episodes-old.csv\")\n",
    "x_obj_episode_per_task = compute_per_task_performance(x_obj_episodes)\n",
    "\n",
    "performances = x_obj_episode_per_task.select(\n",
    "    pl.col(\"partition\").cast(str).add(\"L\").str.reverse().alias(\"partition\"),\n",
    "    pl.col(\"task\"),\n",
    "    pl.col(\"percentage_successful_strict\").mul(100).round(1).alias(\"success\"),\n",
    ").to_dicts()\n",
    "\n",
    "# Get all the success metrics per partition\n",
    "performance_per_level = {}\n",
    "for success in performances:\n",
    "    if success[\"partition\"] not in performance_per_level:\n",
    "        performance_per_level[success[\"partition\"]] = {}\n",
    "\n",
    "    performance_per_level[success[\"partition\"]][success[\"task\"]] = Decimal(\n",
    "        success[\"success\"]\n",
    "    ).quantize(Decimal(\"1.0\"))\n",
    "\n",
    "\n",
    "for level, task_success in performance_per_level.items():\n",
    "    task_success = {  # noqa: PLW2901\n",
    "        task.value + 1: task_success.get(task.value + 1, \"{---}\") for task in Task\n",
    "    }\n",
    "    average = statistics.mean(\n",
    "        task_value for task_value in task_success.values() if isinstance(task_value, Decimal)\n",
    "    )\n",
    "    print_line = \" & \".join(map(str, task_success.values()))\n",
    "    print_line += \" & \" + str(average.quantize(Decimal(\"1.0\")))\n",
    "    print_line = r\"\\bfseries \" + f\"{level} & {print_line} \" + r\"\\\\\"\n",
    "    # printing_lines.append(print_line)"
   ]
  },
  {
   "cell_type": "code",
   "execution_count": 4,
   "metadata": {},
   "outputs": [
    {
     "data": {
      "text/html": [
       "<div><style>\n",
       ".dataframe > thead > tr,\n",
       ".dataframe > tbody > tr {\n",
       "  text-align: right;\n",
       "  white-space: pre-wrap;\n",
       "}\n",
       "</style>\n",
       "<small>shape: (4, 3)</small><table border=\"1\" class=\"dataframe\"><thead><tr><th>partition</th><th>percentage_successful_strict</th><th>percentage_successful</th></tr><tr><td>i64</td><td>f64</td><td>f64</td></tr></thead><tbody><tr><td>1</td><td>72.2</td><td>80.4</td></tr><tr><td>2</td><td>71.4</td><td>78.2</td></tr><tr><td>3</td><td>65.7</td><td>74.8</td></tr><tr><td>4</td><td>45.5</td><td>49.0</td></tr></tbody></table></div>"
      ],
      "text/plain": [
       "shape: (4, 3)\n",
       "┌───────────┬──────────────────────────────┬───────────────────────┐\n",
       "│ partition ┆ percentage_successful_strict ┆ percentage_successful │\n",
       "│ ---       ┆ ---                          ┆ ---                   │\n",
       "│ i64       ┆ f64                          ┆ f64                   │\n",
       "╞═══════════╪══════════════════════════════╪═══════════════════════╡\n",
       "│ 1         ┆ 72.2                         ┆ 80.4                  │\n",
       "│ 2         ┆ 71.4                         ┆ 78.2                  │\n",
       "│ 3         ┆ 65.7                         ┆ 74.8                  │\n",
       "│ 4         ┆ 45.5                         ┆ 49.0                  │\n",
       "└───────────┴──────────────────────────────┴───────────────────────┘"
      ]
     },
     "execution_count": 4,
     "metadata": {},
     "output_type": "execute_result"
    }
   ],
   "source": [
    "d_obj_episodes = process_new_style_json(\"storage/data/episodes-d-obj.json\")\n",
    "d_obj_episode_per_task = compute_per_task_performance(d_obj_episodes)\n",
    "d_obj_episode_per_partition = compute_per_partition_performance(d_obj_episode_per_task)\n",
    "d_obj_episode_per_partition"
   ]
  },
  {
   "cell_type": "code",
   "execution_count": 5,
   "metadata": {},
   "outputs": [
    {
     "data": {
      "text/html": [
       "<div><style>\n",
       ".dataframe > thead > tr,\n",
       ".dataframe > tbody > tr {\n",
       "  text-align: right;\n",
       "  white-space: pre-wrap;\n",
       "}\n",
       "</style>\n",
       "<small>shape: (4, 3)</small><table border=\"1\" class=\"dataframe\"><thead><tr><th>partition</th><th>percentage_successful_strict</th><th>percentage_successful</th></tr><tr><td>i64</td><td>f64</td><td>f64</td></tr></thead><tbody><tr><td>1</td><td>61.2</td><td>67.1</td></tr><tr><td>2</td><td>57.6</td><td>62.8</td></tr><tr><td>3</td><td>46.0</td><td>52.0</td></tr><tr><td>4</td><td>12.9</td><td>19.8</td></tr></tbody></table></div>"
      ],
      "text/plain": [
       "shape: (4, 3)\n",
       "┌───────────┬──────────────────────────────┬───────────────────────┐\n",
       "│ partition ┆ percentage_successful_strict ┆ percentage_successful │\n",
       "│ ---       ┆ ---                          ┆ ---                   │\n",
       "│ i64       ┆ f64                          ┆ f64                   │\n",
       "╞═══════════╪══════════════════════════════╪═══════════════════════╡\n",
       "│ 1         ┆ 61.2                         ┆ 67.1                  │\n",
       "│ 2         ┆ 57.6                         ┆ 62.8                  │\n",
       "│ 3         ┆ 46.0                         ┆ 52.0                  │\n",
       "│ 4         ┆ 12.9                         ┆ 19.8                  │\n",
       "└───────────┴──────────────────────────────┴───────────────────────┘"
      ]
     },
     "execution_count": 5,
     "metadata": {},
     "output_type": "execute_result"
    }
   ],
   "source": [
    "d_ptch_episodes = process_new_style_json(\"storage/data/episodes-d-ptch.json\")\n",
    "d_ptch_episode_per_task = compute_per_task_performance(d_ptch_episodes)\n",
    "d_ptch_episode_per_partition = compute_per_partition_performance(d_ptch_episode_per_task)\n",
    "d_ptch_episode_per_partition"
   ]
  },
  {
   "cell_type": "code",
   "execution_count": 6,
   "metadata": {},
   "outputs": [
    {
     "data": {
      "text/html": [
       "<div><style>\n",
       ".dataframe > thead > tr,\n",
       ".dataframe > tbody > tr {\n",
       "  text-align: right;\n",
       "  white-space: pre-wrap;\n",
       "}\n",
       "</style>\n",
       "<small>shape: (4, 3)</small><table border=\"1\" class=\"dataframe\"><thead><tr><th>partition</th><th>percentage_successful_strict</th><th>percentage_successful</th></tr><tr><td>i64</td><td>f64</td><td>f64</td></tr></thead><tbody><tr><td>1</td><td>58.2</td><td>63.9</td></tr><tr><td>2</td><td>57.3</td><td>63.0</td></tr><tr><td>3</td><td>44.3</td><td>49.5</td></tr><tr><td>4</td><td>15.9</td><td>20.4</td></tr></tbody></table></div>"
      ],
      "text/plain": [
       "shape: (4, 3)\n",
       "┌───────────┬──────────────────────────────┬───────────────────────┐\n",
       "│ partition ┆ percentage_successful_strict ┆ percentage_successful │\n",
       "│ ---       ┆ ---                          ┆ ---                   │\n",
       "│ i64       ┆ f64                          ┆ f64                   │\n",
       "╞═══════════╪══════════════════════════════╪═══════════════════════╡\n",
       "│ 1         ┆ 58.2                         ┆ 63.9                  │\n",
       "│ 2         ┆ 57.3                         ┆ 63.0                  │\n",
       "│ 3         ┆ 44.3                         ┆ 49.5                  │\n",
       "│ 4         ┆ 15.9                         ┆ 20.4                  │\n",
       "└───────────┴──────────────────────────────┴───────────────────────┘"
      ]
     },
     "execution_count": 6,
     "metadata": {},
     "output_type": "execute_result"
    }
   ],
   "source": [
    "x_ptch_episodes = process_new_style_json(\"storage/data/episodes-x-ptch.json\")\n",
    "x_ptch_episode_per_task = compute_per_task_performance(x_ptch_episodes)\n",
    "x_ptch_episode_per_partition = compute_per_partition_performance(x_ptch_episode_per_task)\n",
    "x_ptch_episode_per_partition"
   ]
  },
  {
   "cell_type": "code",
   "execution_count": 7,
   "metadata": {},
   "outputs": [
    {
     "data": {
      "text/html": [
       "<div><style>\n",
       ".dataframe > thead > tr,\n",
       ".dataframe > tbody > tr {\n",
       "  text-align: right;\n",
       "  white-space: pre-wrap;\n",
       "}\n",
       "</style>\n",
       "<small>shape: (4, 3)</small><table border=\"1\" class=\"dataframe\"><thead><tr><th>partition</th><th>percentage_successful_strict</th><th>percentage_successful</th></tr><tr><td>i16</td><td>f64</td><td>f64</td></tr></thead><tbody><tr><td>1</td><td>45.1</td><td>52.3</td></tr><tr><td>2</td><td>45.4</td><td>52.5</td></tr><tr><td>3</td><td>34.5</td><td>41.7</td></tr><tr><td>4</td><td>26.1</td><td>35.8</td></tr></tbody></table></div>"
      ],
      "text/plain": [
       "shape: (4, 3)\n",
       "┌───────────┬──────────────────────────────┬───────────────────────┐\n",
       "│ partition ┆ percentage_successful_strict ┆ percentage_successful │\n",
       "│ ---       ┆ ---                          ┆ ---                   │\n",
       "│ i16       ┆ f64                          ┆ f64                   │\n",
       "╞═══════════╪══════════════════════════════╪═══════════════════════╡\n",
       "│ 1         ┆ 45.1                         ┆ 52.3                  │\n",
       "│ 2         ┆ 45.4                         ┆ 52.5                  │\n",
       "│ 3         ┆ 34.5                         ┆ 41.7                  │\n",
       "│ 4         ┆ 26.1                         ┆ 35.8                  │\n",
       "└───────────┴──────────────────────────────┴───────────────────────┘"
      ]
     },
     "execution_count": 7,
     "metadata": {},
     "output_type": "execute_result"
    }
   ],
   "source": [
    "x_obj_episodes_no_prompt = process_old_style_csv(\"storage/data/episodes-x-obj-no-prompt.csv\")\n",
    "x_obj_episode_per_task_no_prompt = compute_per_task_performance(x_obj_episodes_no_prompt)\n",
    "x_obj_episode_per_partition_no_prompt = compute_per_partition_performance(\n",
    "    x_obj_episode_per_task_no_prompt\n",
    ")\n",
    "x_obj_episode_per_partition_no_prompt"
   ]
  },
  {
   "cell_type": "code",
   "execution_count": 55,
   "metadata": {},
   "outputs": [],
   "source": [
    "import wandb\n",
    "\n",
    "\n",
    "def download_episodes_from_wandb(run_id: str) -> str:\n",
    "    \"\"\"Download the episodes from the given run id.\"\"\"\n",
    "    run = wandb.Api().run(f\"pyop/cogelot-evaluation/{run_id}\")\n",
    "    console.print(\"Run:\", run.id)\n",
    "    console.print(\"Name:\", run.name)\n",
    "\n",
    "    table = next(run.logged_artifacts())\n",
    "    assert \"episodes\" in table.name\n",
    "    table_path = table.download(root=f\"./storage/artifacts/{run_id}\") + \"/episodes.table.json\"\n",
    "    return table_path\n",
    "\n",
    "\n",
    "def print_for_paper(episodes_per_partition: pl.DataFrame) -> None:\n",
    "    \"\"\"Print the strict numbers for the paper.\"\"\"\n",
    "    averages = (\n",
    "        episodes_per_partition.drop(\"percentage_successful\")\n",
    "        .select(\n",
    "            pl.col(\"partition\").cast(str).add(\"L\").str.reverse(),\n",
    "            pl.col(\"percentage_successful_strict\"),\n",
    "        )\n",
    "        .drop(\"partition\")\n",
    "        .to_numpy()\n",
    "        .flatten()\n",
    "        .tolist()\n",
    "    )\n",
    "    console.print(\" & \".join(map(str, averages)), r\"\\\\\")"
   ]
  },
  {
   "cell_type": "code",
   "execution_count": 75,
   "metadata": {},
   "outputs": [
    {
     "data": {
      "text/html": [
       "<pre style=\"white-space:pre;overflow-x:auto;line-height:normal;font-family:Menlo,'DejaVu Sans Mono',consolas,'Courier New',monospace\">Run: sm0t3gea\n",
       "</pre>\n"
      ],
      "text/plain": [
       "Run: sm0t3gea\n"
      ]
     },
     "metadata": {},
     "output_type": "display_data"
    },
    {
     "data": {
      "text/html": [
       "<pre style=\"white-space:pre;overflow-x:auto;line-height:normal;font-family:Menlo,'DejaVu Sans Mono',consolas,'Courier New',monospace\">Name: X+Obj <span style=\"color: #800080; text-decoration-color: #800080\">/</span> Orig\n",
       "</pre>\n"
      ],
      "text/plain": [
       "Name: X+Obj \u001b[35m/\u001b[0m Orig\n"
      ]
     },
     "metadata": {},
     "output_type": "display_data"
    },
    {
     "name": "stderr",
     "output_type": "stream",
     "text": [
      "\u001b[34m\u001b[1mwandb\u001b[0m:   1 of 1 files downloaded.  \n"
     ]
    },
    {
     "data": {
      "text/html": [
       "<div><style>\n",
       ".dataframe > thead > tr,\n",
       ".dataframe > tbody > tr {\n",
       "  text-align: right;\n",
       "  white-space: pre-wrap;\n",
       "}\n",
       "</style>\n",
       "<small>shape: (13, 7)</small><table border=\"1\" class=\"dataframe\"><thead><tr><th>partition</th><th>task</th><th>num_successful</th><th>num_successful_strict</th><th>total_episodes</th><th>percentage_successful_strict</th><th>percentage_successful</th></tr><tr><td>i64</td><td>i64</td><td>u32</td><td>u32</td><td>u32</td><td>f64</td><td>f64</td></tr></thead><tbody><tr><td>1</td><td>1</td><td>200</td><td>198</td><td>200</td><td>0.99</td><td>1.0</td></tr><tr><td>1</td><td>2</td><td>199</td><td>198</td><td>200</td><td>0.99</td><td>0.995</td></tr><tr><td>1</td><td>3</td><td>199</td><td>199</td><td>200</td><td>0.995</td><td>0.995</td></tr><tr><td>1</td><td>4</td><td>194</td><td>192</td><td>200</td><td>0.96</td><td>0.97</td></tr><tr><td>1</td><td>5</td><td>17</td><td>6</td><td>200</td><td>0.03</td><td>0.085</td></tr><tr><td>&hellip;</td><td>&hellip;</td><td>&hellip;</td><td>&hellip;</td><td>&hellip;</td><td>&hellip;</td><td>&hellip;</td></tr><tr><td>1</td><td>11</td><td>183</td><td>182</td><td>200</td><td>0.91</td><td>0.915</td></tr><tr><td>1</td><td>12</td><td>192</td><td>178</td><td>200</td><td>0.89</td><td>0.96</td></tr><tr><td>1</td><td>15</td><td>193</td><td>193</td><td>200</td><td>0.965</td><td>0.965</td></tr><tr><td>1</td><td>16</td><td>99</td><td>92</td><td>200</td><td>0.46</td><td>0.495</td></tr><tr><td>1</td><td>17</td><td>147</td><td>0</td><td>200</td><td>0.0</td><td>0.735</td></tr></tbody></table></div>"
      ],
      "text/plain": [
       "shape: (13, 7)\n",
       "┌───────────┬──────┬───────────────┬───────────────┬───────────────┬───────────────┬───────────────┐\n",
       "│ partition ┆ task ┆ num_successfu ┆ num_successfu ┆ total_episode ┆ percentage_su ┆ percentage_su │\n",
       "│ ---       ┆ ---  ┆ l             ┆ l_strict      ┆ s             ┆ ccessful_stri ┆ ccessful      │\n",
       "│ i64       ┆ i64  ┆ ---           ┆ ---           ┆ ---           ┆ ct            ┆ ---           │\n",
       "│           ┆      ┆ u32           ┆ u32           ┆ u32           ┆ ---           ┆ f64           │\n",
       "│           ┆      ┆               ┆               ┆               ┆ f64           ┆               │\n",
       "╞═══════════╪══════╪═══════════════╪═══════════════╪═══════════════╪═══════════════╪═══════════════╡\n",
       "│ 1         ┆ 1    ┆ 200           ┆ 198           ┆ 200           ┆ 0.99          ┆ 1.0           │\n",
       "│ 1         ┆ 2    ┆ 199           ┆ 198           ┆ 200           ┆ 0.99          ┆ 0.995         │\n",
       "│ 1         ┆ 3    ┆ 199           ┆ 199           ┆ 200           ┆ 0.995         ┆ 0.995         │\n",
       "│ 1         ┆ 4    ┆ 194           ┆ 192           ┆ 200           ┆ 0.96          ┆ 0.97          │\n",
       "│ 1         ┆ 5    ┆ 17            ┆ 6             ┆ 200           ┆ 0.03          ┆ 0.085         │\n",
       "│ …         ┆ …    ┆ …             ┆ …             ┆ …             ┆ …             ┆ …             │\n",
       "│ 1         ┆ 11   ┆ 183           ┆ 182           ┆ 200           ┆ 0.91          ┆ 0.915         │\n",
       "│ 1         ┆ 12   ┆ 192           ┆ 178           ┆ 200           ┆ 0.89          ┆ 0.96          │\n",
       "│ 1         ┆ 15   ┆ 193           ┆ 193           ┆ 200           ┆ 0.965         ┆ 0.965         │\n",
       "│ 1         ┆ 16   ┆ 99            ┆ 92            ┆ 200           ┆ 0.46          ┆ 0.495         │\n",
       "│ 1         ┆ 17   ┆ 147           ┆ 0             ┆ 200           ┆ 0.0           ┆ 0.735         │\n",
       "└───────────┴──────┴───────────────┴───────────────┴───────────────┴───────────────┴───────────────┘"
      ]
     },
     "execution_count": 75,
     "metadata": {},
     "output_type": "execute_result"
    }
   ],
   "source": [
    "run_id = \"sm0t3gea\"\n",
    "episodes_path = download_episodes_from_wandb(run_id)\n",
    "episodes = process_new_style_json(episodes_path)\n",
    "episode_per_task = compute_per_task_performance(episodes)\n",
    "episode_per_task.filter(pl.col(\"partition\") == 1)\n",
    "# episode_per_partition = compute_per_partition_performance(episode_per_task)\n",
    "# episode_per_partition"
   ]
  },
  {
   "cell_type": "code",
   "execution_count": 70,
   "metadata": {},
   "outputs": [
    {
     "data": {
      "text/plain": [
       "{'L1': {1: Decimal('90.0'),\n",
       "  2: Decimal('38.5'),\n",
       "  3: Decimal('8.5'),\n",
       "  4: Decimal('9.0'),\n",
       "  5: Decimal('1.0'),\n",
       "  6: Decimal('43.5'),\n",
       "  7: Decimal('74.0'),\n",
       "  9: Decimal('3.5'),\n",
       "  11: Decimal('67.5'),\n",
       "  12: Decimal('82.5'),\n",
       "  15: Decimal('49.0'),\n",
       "  16: Decimal('19.0'),\n",
       "  17: Decimal('0.0')},\n",
       " 'L2': {1: Decimal('80.5'),\n",
       "  2: Decimal('27.0'),\n",
       "  3: Decimal('4.5'),\n",
       "  4: Decimal('8.0'),\n",
       "  5: Decimal('1.0'),\n",
       "  6: Decimal('49.5'),\n",
       "  7: Decimal('74.5'),\n",
       "  9: Decimal('3.0'),\n",
       "  11: Decimal('75.5'),\n",
       "  12: Decimal('77.0'),\n",
       "  15: Decimal('50.0'),\n",
       "  16: Decimal('23.5'),\n",
       "  17: Decimal('0.0')},\n",
       " 'L3': {1: Decimal('62.5'),\n",
       "  2: Decimal('35.0'),\n",
       "  3: Decimal('4.0'),\n",
       "  4: Decimal('11.0'),\n",
       "  5: Decimal('0.5'),\n",
       "  6: Decimal('42.0'),\n",
       "  7: Decimal('43.5'),\n",
       "  9: Decimal('3.5'),\n",
       "  11: Decimal('71.5'),\n",
       "  15: Decimal('25.5'),\n",
       "  16: Decimal('14.5'),\n",
       "  17: Decimal('0.0')},\n",
       " 'L4': {8: Decimal('17.5'),\n",
       "  10: Decimal('1.5'),\n",
       "  13: Decimal('0.0'),\n",
       "  14: Decimal('26.0')}}"
      ]
     },
     "execution_count": 70,
     "metadata": {},
     "output_type": "execute_result"
    }
   ],
   "source": [
    "from decimal import Decimal\n",
    "\n",
    "performance_per_level = {}\n",
    "\n",
    "performances = episode_per_task.select(\n",
    "    pl.col(\"partition\").cast(str).add(\"L\").str.reverse().alias(\"partition\"),\n",
    "    pl.col(\"task\"),\n",
    "    pl.col(\"percentage_successful_strict\").mul(100).round(1).alias(\"success\"),\n",
    ").to_dicts()\n",
    "\n",
    "for success in performances:\n",
    "    if success[\"partition\"] not in performance_per_level:\n",
    "        performance_per_level[success[\"partition\"]] = {}\n",
    "\n",
    "    performance_per_level[success[\"partition\"]][success[\"task\"]] = Decimal(\n",
    "        success[\"success\"]\n",
    "    ).quantize(Decimal(\"1.0\"))\n",
    "performance_per_level"
   ]
  },
  {
   "cell_type": "code",
   "execution_count": null,
   "metadata": {},
   "outputs": [],
   "source": []
  }
 ],
 "metadata": {
  "kernelspec": {
   "display_name": ".venv",
   "language": "python",
   "name": "python3"
  },
  "language_info": {
   "codemirror_mode": {
    "name": "ipython",
    "version": 3
   },
   "file_extension": ".py",
   "mimetype": "text/x-python",
   "name": "python",
   "nbconvert_exporter": "python",
   "pygments_lexer": "ipython3",
   "version": "3.11.4"
  }
 },
 "nbformat": 4,
 "nbformat_minor": 2
}
